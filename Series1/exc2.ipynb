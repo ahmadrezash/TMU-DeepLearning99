{
 "cells": [
  {
   "cell_type": "code",
   "execution_count": 9,
   "outputs": [],
   "source": [
    "from sklearn.datasets import load_iris\n",
    "import torch\n",
    "from util import Trainer\n",
    "\n",
    "%matplotlib inline\n"
   ],
   "metadata": {
    "collapsed": false,
    "pycharm": {
     "name": "#%%\n"
    }
   }
  },
  {
   "cell_type": "markdown",
   "source": [
    "# Exc 1"
   ],
   "metadata": {
    "collapsed": false
   }
  },
  {
   "cell_type": "markdown",
   "source": [
    "## 1.1 Define model"
   ],
   "metadata": {
    "collapsed": false
   }
  },
  {
   "cell_type": "code",
   "execution_count": 10,
   "outputs": [],
   "source": [
    "class Network1(torch.nn.Module):\n",
    "    def __init__(self,n_input=4, n_output=1):\n",
    "        super(Network1, self).__init__()\n",
    "        self.fc = torch.nn.Linear(n_input,n_output)\n",
    "    def forward(self, x):\n",
    "        x = self.fc(x)\n",
    "\n",
    "        return x"
   ],
   "metadata": {
    "collapsed": false,
    "pycharm": {
     "name": "#%%%\n"
    }
   }
  },
  {
   "cell_type": "markdown",
   "source": [
    "## 1.2 Train model"
   ],
   "metadata": {
    "collapsed": false
   }
  },
  {
   "cell_type": "code",
   "execution_count": 11,
   "outputs": [
    {
     "name": "stdout",
     "output_type": "stream",
     "text": [
      "Epoch 0: train loss: 0.6537688374519348\n",
      "Epoch 50: train loss: 0.0806928500533104\n",
      "Epoch 100: train loss: 0.07051202654838562\n",
      "Epoch 150: train loss: 0.06783807277679443\n",
      "Epoch 200: train loss: 0.06560852378606796\n",
      "Epoch 250: train loss: 0.06368270516395569\n",
      "Epoch 300: train loss: 0.06201576814055443\n",
      "Epoch 350: train loss: 0.06057034060359001\n",
      "Epoch 400: train loss: 0.05931456387042999\n",
      "Epoch 450: train loss: 0.058221276849508286\n",
      "Epoch 500: train loss: 0.05726727098226547\n",
      "Epoch 550: train loss: 0.05643278732895851\n",
      "Epoch 600: train loss: 0.05570086091756821\n",
      "Epoch 650: train loss: 0.055057112127542496\n",
      "Epoch 700: train loss: 0.05448919162154198\n",
      "Epoch 750: train loss: 0.05398658290505409\n",
      "Epoch 800: train loss: 0.053540267050266266\n",
      "Epoch 850: train loss: 0.05314253643155098\n",
      "Epoch 900: train loss: 0.05278681591153145\n",
      "Epoch 950: train loss: 0.0524674654006958\n"
     ]
    }
   ],
   "source": [
    "network = Network1(n_input=4, n_output=1)\n",
    "t = Trainer(model=network)\n",
    "\n",
    "data = load_iris()\n",
    "X = data['data']\n",
    "Y = data['target']\n",
    "t.fit(x_train=X,y_train=Y)"
   ],
   "metadata": {
    "collapsed": false,
    "pycharm": {
     "name": "#%%%\n"
    }
   }
  },
  {
   "cell_type": "markdown",
   "source": [
    "## 1.3 Plot result"
   ],
   "metadata": {
    "collapsed": false
   }
  },
  {
   "cell_type": "code",
   "execution_count": null,
   "outputs": [],
   "source": [
    "t.plot_loss()"
   ],
   "metadata": {
    "collapsed": false,
    "pycharm": {
     "name": "#%%\n"
    }
   }
  },
  {
   "cell_type": "markdown",
   "source": [],
   "metadata": {
    "collapsed": false
   }
  }
 ],
 "metadata": {
  "kernelspec": {
   "display_name": "Python 3",
   "language": "python",
   "name": "python3"
  },
  "language_info": {
   "codemirror_mode": {
    "name": "ipython",
    "version": 2
   },
   "file_extension": ".py",
   "mimetype": "text/x-python",
   "name": "python",
   "nbconvert_exporter": "python",
   "pygments_lexer": "ipython2",
   "version": "2.7.6"
  }
 },
 "nbformat": 4,
 "nbformat_minor": 0
}
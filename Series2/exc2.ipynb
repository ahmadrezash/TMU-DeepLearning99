{
 "cells": [
  {
   "cell_type": "code",
   "execution_count": 1,
   "metadata": {
    "collapsed": true,
    "pycharm": {
     "name": "#%%\n"
    }
   },
   "outputs": [],
   "source": [
    "from sklearn.datasets import fetch_openml\n",
    "import numpy as np\n",
    "from sklearn.model_selection import train_test_split\n",
    "import time\n",
    "\n",
    "# x, y = fetch_openml('mnist_784', version=1, return_X_y=True)\n",
    "# x = (x / 255).astype('float32')\n",
    "\n",
    "# x_train, x_val, y_train, y_val = train_test_split(x, y, test_size=0.15, random_state=42)\n",
    "\n",
    "from utils import sigmoid, initializer\n",
    "\n",
    "\n",
    "class MLP():\n",
    "\tdef __init__(self, sizes, epochs=10, l_rate=0.001):\n",
    "\t\tself.sizes = sizes\n",
    "\t\tself.epochs = epochs\n",
    "\t\tself.l_rate = l_rate\n",
    "\n",
    "\t\t# we save all parameters in the neural network in this dictionary\n",
    "\t\tself.params = self.initialization()\n",
    "\n",
    "\tdef initialization(self):\n",
    "\t\t# number of nodes in each layer\n",
    "\t\tinput_layer = self.sizes[0]\n",
    "\t\thidden_1 = self.sizes[1]\n",
    "\t\thidden_2 = self.sizes[2]\n",
    "\t\thidden_3 = self.sizes[3]\n",
    "\t\toutput_layer = self.sizes[4]\n",
    "\n",
    "\t\tparams = {\n",
    "\t\t\t'W1': initializer(hidden_1, input_layer),\n",
    "\t\t\t'W2': initializer(hidden_2, hidden_1),\n",
    "\t\t\t'W3': initializer(hidden_3, hidden_2),\n",
    "\t\t\t'W4': initializer(output_layer, hidden_3)\n",
    "\t\t}\n",
    "\n",
    "\t\treturn params\n",
    "\n",
    "\tdef forward_pass(self, x_train):\n",
    "\t\tparams = self.params\n",
    "\n",
    "\t\t# input layer activations becomes sample\n",
    "\t\tparams['A0'] = x_train\n",
    "\n",
    "\t\t# input layer to hidden layer 1\n",
    "\t\tparams['Z1'] = np.dot(params[\"W1\"], params['A0'])\n",
    "\t\tparams['A1'] = sigmoid(params['Z1'])\n",
    "\n",
    "\t\t# hidden layer 1 to hidden layer 2\n",
    "\t\tparams['Z2'] = np.dot(params[\"W2\"], params['A1'])\n",
    "\t\tparams['A2'] = sigmoid(params['Z2'])\n",
    "\n",
    "\t\t# hidden layer 2 to hidden layer 3\n",
    "\t\tparams['Z3'] = np.dot(params[\"W3\"], params['A2'])\n",
    "\t\tparams['A3'] = sigmoid(params['Z3'])\n",
    "\n",
    "\t\t# hidden layer 2 to output layer\n",
    "\t\tparams['Z4'] = np.dot(params[\"W4\"], params['A3'])\n",
    "\t\tparams['A4'] = sigmoid(params['Z4'])\n",
    "\n",
    "\t\treturn params['A4']\n",
    "\n",
    "\tdef backward_pass(self, y_train, output):\n",
    "\t\tparams = self.params\n",
    "\t\tchange_w = {}\n",
    "\n",
    "\t\t# Calculate W4 update\n",
    "\t\terror = 2 * (output - y_train) * sigmoid(params['Z4'], derivative=True)\n",
    "\t\tchange_w['W4'] = np.outer(error, params['A3'])\n",
    "\n",
    "\t\t# Calculate W3 update\n",
    "\t\terror = np.dot(params['W4'].T, error) * sigmoid(params['Z3'], derivative=True)\n",
    "\t\tchange_w['W3'] = np.outer(error, params['A2'])\n",
    "\n",
    "\t\t# Calculate W2 update\n",
    "\t\terror = np.dot(params['W3'].T, error) * sigmoid(params['Z2'], derivative=True)\n",
    "\t\tchange_w['W2'] = np.outer(error, params['A1'])\n",
    "\n",
    "\t\t# Calculate W1 update\n",
    "\t\terror = np.dot(params['W2'].T, error) * sigmoid(params['Z1'], derivative=True)\n",
    "\t\tchange_w['W1'] = np.outer(error, params['A0'])\n",
    "\n",
    "\t\treturn change_w\n",
    "\n",
    "\tdef update_network_parameters(self, changes_to_w):\n",
    "\n",
    "\t\tfor key, value in changes_to_w.items():\n",
    "\t\t\tself.params[key] -= self.l_rate * value\n",
    "\n",
    "\tdef compute_accuracy(self, x_val, y_val):\n",
    "\n",
    "\t\tpredictions = []\n",
    "\n",
    "\t\tfor x, y in zip(x_val, y_val):\n",
    "\t\t\toutput = self.forward_pass(x)\n",
    "\t\t\tpred = np.argmax(output)\n",
    "\t\t\tpredictions.append(pred == np.argmax(y))\n",
    "\n",
    "\t\treturn np.mean(predictions)\n",
    "\n",
    "\tdef train(self, x_train, y_train, x_val, y_val):\n",
    "\t\tstart_time = time.time()\n",
    "\t\tfor iteration in range(self.epochs):\n",
    "\t\t\tfor x, y in zip(x_train, y_train):\n",
    "\t\t\t\toutput = self.forward_pass(x)\n",
    "\t\t\t\tchanges_to_w = self.backward_pass(y, output)\n",
    "\t\t\t\tself.update_network_parameters(changes_to_w)\n",
    "\n",
    "\t\t\taccuracy = self.compute_accuracy(x_val, y_val)\n",
    "\t\t\tprint('Epoch: {0}, Time Spent: {1:.2f}s, Accuracy: {2:.2f}%'.format(\n",
    "\t\t\t\titeration + 1, time.time() - start_time, accuracy * 100\n",
    "\t\t\t))\n",
    "\n"
   ]
  },
  {
   "cell_type": "code",
   "execution_count": 2,
   "outputs": [],
   "source": [
    "from sklearn.datasets import load_iris\n",
    "\n",
    "data = load_iris()\n",
    "x = data['data']\n",
    "y = data['target']\n",
    "x_train, x_val, y_train, y_val = train_test_split(x, y, test_size=0.15, random_state=42)"
   ],
   "metadata": {
    "collapsed": false,
    "pycharm": {
     "name": "#%%\n"
    }
   }
  },
  {
   "cell_type": "code",
   "execution_count": 3,
   "outputs": [
    {
     "ename": "ValueError",
     "evalue": "setting an array element with a sequence.",
     "output_type": "error",
     "traceback": [
      "\u001B[0;31m---------------------------------------------------------------------------\u001B[0m",
      "\u001B[0;31mTypeError\u001B[0m                                 Traceback (most recent call last)",
      "\u001B[0;31mTypeError\u001B[0m: only size-1 arrays can be converted to Python scalars",
      "\nThe above exception was the direct cause of the following exception:\n",
      "\u001B[0;31mValueError\u001B[0m                                Traceback (most recent call last)",
      "\u001B[0;32m<ipython-input-3-b3e61457d382>\u001B[0m in \u001B[0;36m<module>\u001B[0;34m\u001B[0m\n\u001B[1;32m      1\u001B[0m \u001B[0mdnn\u001B[0m \u001B[0;34m=\u001B[0m \u001B[0mMLP\u001B[0m\u001B[0;34m(\u001B[0m\u001B[0msizes\u001B[0m\u001B[0;34m=\u001B[0m\u001B[0;34m[\u001B[0m\u001B[0;36m4\u001B[0m\u001B[0;34m,\u001B[0m \u001B[0;36m4\u001B[0m\u001B[0;34m,\u001B[0m \u001B[0;36m4\u001B[0m\u001B[0;34m,\u001B[0m \u001B[0;36m4\u001B[0m\u001B[0;34m,\u001B[0m \u001B[0;36m3\u001B[0m\u001B[0;34m]\u001B[0m\u001B[0;34m)\u001B[0m\u001B[0;34m\u001B[0m\u001B[0;34m\u001B[0m\u001B[0m\n\u001B[0;32m----> 2\u001B[0;31m \u001B[0mdnn\u001B[0m\u001B[0;34m.\u001B[0m\u001B[0mtrain\u001B[0m\u001B[0;34m(\u001B[0m\u001B[0mx_train\u001B[0m\u001B[0;34m,\u001B[0m \u001B[0my_train\u001B[0m\u001B[0;34m,\u001B[0m \u001B[0mx_val\u001B[0m\u001B[0;34m,\u001B[0m \u001B[0my_val\u001B[0m\u001B[0;34m)\u001B[0m\u001B[0;34m\u001B[0m\u001B[0;34m\u001B[0m\u001B[0m\n\u001B[0m\u001B[1;32m      3\u001B[0m \u001B[0;34m\u001B[0m\u001B[0m\n\u001B[1;32m      4\u001B[0m \u001B[0;34m\u001B[0m\u001B[0m\n",
      "\u001B[0;32m<ipython-input-1-6d41633b42fe>\u001B[0m in \u001B[0;36mtrain\u001B[0;34m(self, x_train, y_train, x_val, y_val)\u001B[0m\n\u001B[1;32m    104\u001B[0m                 \u001B[0;32mfor\u001B[0m \u001B[0miteration\u001B[0m \u001B[0;32min\u001B[0m \u001B[0mrange\u001B[0m\u001B[0;34m(\u001B[0m\u001B[0mself\u001B[0m\u001B[0;34m.\u001B[0m\u001B[0mepochs\u001B[0m\u001B[0;34m)\u001B[0m\u001B[0;34m:\u001B[0m\u001B[0;34m\u001B[0m\u001B[0;34m\u001B[0m\u001B[0m\n\u001B[1;32m    105\u001B[0m                         \u001B[0;32mfor\u001B[0m \u001B[0mx\u001B[0m\u001B[0;34m,\u001B[0m \u001B[0my\u001B[0m \u001B[0;32min\u001B[0m \u001B[0mzip\u001B[0m\u001B[0;34m(\u001B[0m\u001B[0mx_train\u001B[0m\u001B[0;34m,\u001B[0m \u001B[0my_train\u001B[0m\u001B[0;34m)\u001B[0m\u001B[0;34m:\u001B[0m\u001B[0;34m\u001B[0m\u001B[0;34m\u001B[0m\u001B[0m\n\u001B[0;32m--> 106\u001B[0;31m                                 \u001B[0moutput\u001B[0m \u001B[0;34m=\u001B[0m \u001B[0mself\u001B[0m\u001B[0;34m.\u001B[0m\u001B[0mforward_pass\u001B[0m\u001B[0;34m(\u001B[0m\u001B[0mx\u001B[0m\u001B[0;34m)\u001B[0m\u001B[0;34m\u001B[0m\u001B[0;34m\u001B[0m\u001B[0m\n\u001B[0m\u001B[1;32m    107\u001B[0m                                 \u001B[0mchanges_to_w\u001B[0m \u001B[0;34m=\u001B[0m \u001B[0mself\u001B[0m\u001B[0;34m.\u001B[0m\u001B[0mbackward_pass\u001B[0m\u001B[0;34m(\u001B[0m\u001B[0my\u001B[0m\u001B[0;34m,\u001B[0m \u001B[0moutput\u001B[0m\u001B[0;34m)\u001B[0m\u001B[0;34m\u001B[0m\u001B[0;34m\u001B[0m\u001B[0m\n\u001B[1;32m    108\u001B[0m                                 \u001B[0mself\u001B[0m\u001B[0;34m.\u001B[0m\u001B[0mupdate_network_parameters\u001B[0m\u001B[0;34m(\u001B[0m\u001B[0mchanges_to_w\u001B[0m\u001B[0;34m)\u001B[0m\u001B[0;34m\u001B[0m\u001B[0;34m\u001B[0m\u001B[0m\n",
      "\u001B[0;32m<ipython-input-1-6d41633b42fe>\u001B[0m in \u001B[0;36mforward_pass\u001B[0;34m(self, x_train)\u001B[0m\n\u001B[1;32m     45\u001B[0m \u001B[0;34m\u001B[0m\u001B[0m\n\u001B[1;32m     46\u001B[0m                 \u001B[0;31m# input layer to hidden layer 1\u001B[0m\u001B[0;34m\u001B[0m\u001B[0;34m\u001B[0m\u001B[0;34m\u001B[0m\u001B[0m\n\u001B[0;32m---> 47\u001B[0;31m                 \u001B[0mparams\u001B[0m\u001B[0;34m[\u001B[0m\u001B[0;34m'Z1'\u001B[0m\u001B[0;34m]\u001B[0m \u001B[0;34m=\u001B[0m \u001B[0mnp\u001B[0m\u001B[0;34m.\u001B[0m\u001B[0mdot\u001B[0m\u001B[0;34m(\u001B[0m\u001B[0mparams\u001B[0m\u001B[0;34m[\u001B[0m\u001B[0;34m\"W1\"\u001B[0m\u001B[0;34m]\u001B[0m\u001B[0;34m,\u001B[0m \u001B[0mparams\u001B[0m\u001B[0;34m[\u001B[0m\u001B[0;34m'A0'\u001B[0m\u001B[0;34m]\u001B[0m\u001B[0;34m)\u001B[0m\u001B[0;34m\u001B[0m\u001B[0;34m\u001B[0m\u001B[0m\n\u001B[0m\u001B[1;32m     48\u001B[0m                 \u001B[0mparams\u001B[0m\u001B[0;34m[\u001B[0m\u001B[0;34m'A1'\u001B[0m\u001B[0;34m]\u001B[0m \u001B[0;34m=\u001B[0m \u001B[0msigmoid\u001B[0m\u001B[0;34m(\u001B[0m\u001B[0mparams\u001B[0m\u001B[0;34m[\u001B[0m\u001B[0;34m'Z1'\u001B[0m\u001B[0;34m]\u001B[0m\u001B[0;34m)\u001B[0m\u001B[0;34m\u001B[0m\u001B[0;34m\u001B[0m\u001B[0m\n\u001B[1;32m     49\u001B[0m \u001B[0;34m\u001B[0m\u001B[0m\n",
      "\u001B[0;32m<__array_function__ internals>\u001B[0m in \u001B[0;36mdot\u001B[0;34m(*args, **kwargs)\u001B[0m\n",
      "\u001B[0;31mValueError\u001B[0m: setting an array element with a sequence."
     ]
    }
   ],
   "source": [
    "dnn = MLP(sizes=[4, 4, 4, 4, 3])\n",
    "dnn.train(x_train, y_train, x_val, y_val)\n",
    "\n"
   ],
   "metadata": {
    "collapsed": false,
    "pycharm": {
     "name": "#%%\n"
    }
   }
  },
  {
   "cell_type": "code",
   "execution_count": null,
   "outputs": [],
   "source": [],
   "metadata": {
    "collapsed": false,
    "pycharm": {
     "name": "#%%\n"
    }
   }
  }
 ],
 "metadata": {
  "kernelspec": {
   "display_name": "Python 3",
   "language": "python",
   "name": "python3"
  },
  "language_info": {
   "codemirror_mode": {
    "name": "ipython",
    "version": 2
   },
   "file_extension": ".py",
   "mimetype": "text/x-python",
   "name": "python",
   "nbconvert_exporter": "python",
   "pygments_lexer": "ipython2",
   "version": "2.7.6"
  }
 },
 "nbformat": 4,
 "nbformat_minor": 0
}
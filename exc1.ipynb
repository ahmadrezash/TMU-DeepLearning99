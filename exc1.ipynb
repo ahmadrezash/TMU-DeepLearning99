{
 "cells": [
  {
   "cell_type": "code",
   "execution_count": 25,
   "outputs": [],
   "source": [
    "from sklearn.datasets import load_iris\n",
    "import torch\n",
    "from util import Trainer\n",
    "import matplotlib.pyplot as plt\n",
    "\n",
    "%matplotlib inline"
   ],
   "metadata": {
    "collapsed": false,
    "pycharm": {
     "name": "#%%\n"
    }
   }
  },
  {
   "cell_type": "code",
   "execution_count": 26,
   "outputs": [],
   "source": [
    "data = load_iris()\n",
    "X = data['data']\n",
    "Y = data['target']"
   ],
   "metadata": {
    "collapsed": false,
    "pycharm": {
     "name": "#%%\n"
    }
   }
  },
  {
   "cell_type": "markdown",
   "source": [
    "# Exc 1"
   ],
   "metadata": {
    "collapsed": false
   }
  },
  {
   "cell_type": "markdown",
   "source": [
    "# Model 1"
   ],
   "metadata": {
    "collapsed": false
   }
  },
  {
   "cell_type": "markdown",
   "source": [
    "## 1.1 Define model"
   ],
   "metadata": {
    "collapsed": false
   }
  },
  {
   "cell_type": "code",
   "execution_count": 27,
   "outputs": [],
   "source": [
    "class Network1(torch.nn.Module):\n",
    "    def __init__(self,n_input=4, n_output=1):\n",
    "        super(Network1, self).__init__()\n",
    "        self.fc = torch.nn.Linear(n_input,n_output)\n",
    "    def forward(self, x):\n",
    "        x = self.fc(x)\n",
    "\n",
    "        return x"
   ],
   "metadata": {
    "collapsed": false,
    "pycharm": {
     "name": "#%%%\n"
    }
   }
  },
  {
   "cell_type": "markdown",
   "source": [
    "## 1.2 Train model"
   ],
   "metadata": {
    "collapsed": false
   }
  },
  {
   "cell_type": "code",
   "execution_count": 28,
   "outputs": [
    {
     "name": "stdout",
     "output_type": "stream",
     "text": [
      "Epoch 0: train loss: 4.389854431152344\n",
      "Epoch 50: train loss: 0.058443114161491394\n",
      "Epoch 100: train loss: 0.04925836995244026\n",
      "Epoch 150: train loss: 0.04885830357670784\n",
      "Epoch 200: train loss: 0.04860677570104599\n",
      "Epoch 250: train loss: 0.048388440161943436\n",
      "Epoch 300: train loss: 0.04819745942950249\n",
      "Epoch 350: train loss: 0.048029981553554535\n",
      "Epoch 400: train loss: 0.04788276553153992\n",
      "Epoch 450: train loss: 0.04775300994515419\n",
      "Epoch 500: train loss: 0.047638338059186935\n",
      "Epoch 550: train loss: 0.0475366972386837\n",
      "Epoch 600: train loss: 0.0474463552236557\n",
      "Epoch 650: train loss: 0.04736580699682236\n",
      "Epoch 700: train loss: 0.047293756157159805\n",
      "Epoch 750: train loss: 0.04722912237048149\n",
      "Epoch 800: train loss: 0.04717095568776131\n",
      "Epoch 850: train loss: 0.04711844399571419\n",
      "Epoch 900: train loss: 0.04707086831331253\n",
      "Epoch 950: train loss: 0.047027647495269775\n"
     ]
    }
   ],
   "source": [
    "network1 = Network1(n_input=4, n_output=1)\n",
    "t1 = Trainer(model=network1)\n",
    "\n",
    "\n",
    "t1.fit(x_train=X,y_train=Y)"
   ],
   "metadata": {
    "collapsed": false,
    "pycharm": {
     "name": "#%%%\n"
    }
   }
  },
  {
   "cell_type": "markdown",
   "source": [
    "## 1.3 Plot result"
   ],
   "metadata": {
    "collapsed": false
   }
  },
  {
   "cell_type": "code",
   "execution_count": 29,
   "outputs": [
    {
     "data": {
      "text/plain": "<Figure size 432x288 with 1 Axes>",
      "image/png": "[encoded data removed]"
     },
     "metadata": {
      "needs_background": "light"
     },
     "output_type": "display_data"
    }
   ],
   "source": [
    "t1.plot_loss()"
   ],
   "metadata": {
    "collapsed": false,
    "pycharm": {
     "name": "#%%\n"
    }
   }
  },
  {
   "cell_type": "markdown",
   "source": [
    "# Model 2"
   ],
   "metadata": {
    "collapsed": false
   }
  },
  {
   "cell_type": "markdown",
   "source": [
    "## 2.1 Define model"
   ],
   "metadata": {
    "collapsed": false
   }
  },
  {
   "cell_type": "code",
   "execution_count": 30,
   "outputs": [],
   "source": [
    "class Network2(torch.nn.Module):\n",
    "    def __init__(self,n_input=4, n_output=1):\n",
    "        super(Network2, self).__init__()\n",
    "        self.layer1 = torch.nn.Linear(n_input,10)\n",
    "        self.layer2 = torch.nn.Linear(10,n_output)\n",
    "    def forward(self, x):\n",
    "        x = self.layer1(x)\n",
    "        x = self.layer2(x)\n",
    "\n",
    "        return x"
   ],
   "metadata": {
    "collapsed": false,
    "pycharm": {
     "name": "#%%%\n"
    }
   }
  },
  {
   "cell_type": "markdown",
   "source": [
    "## 2.2 Train model"
   ],
   "metadata": {
    "collapsed": false
   }
  },
  {
   "cell_type": "code",
   "execution_count": 31,
   "outputs": [
    {
     "name": "stdout",
     "output_type": "stream",
     "text": [
      "Epoch 0: train loss: 0.5005914568901062\n",
      "Epoch 50: train loss: 0.05925031006336212\n",
      "Epoch 100: train loss: 0.055722810328006744\n",
      "Epoch 150: train loss: 0.05479893460869789\n",
      "Epoch 200: train loss: 0.05399547517299652\n",
      "Epoch 250: train loss: 0.05328797921538353\n",
      "Epoch 300: train loss: 0.05266394466161728\n",
      "Epoch 350: train loss: 0.052112679928541183\n",
      "Epoch 400: train loss: 0.0516250841319561\n",
      "Epoch 450: train loss: 0.0511932298541069\n",
      "Epoch 500: train loss: 0.050810255110263824\n",
      "Epoch 550: train loss: 0.05047016218304634\n",
      "Epoch 600: train loss: 0.05016770586371422\n",
      "Epoch 650: train loss: 0.04989829659461975\n",
      "Epoch 700: train loss: 0.0496579073369503\n",
      "Epoch 750: train loss: 0.049442972987890244\n",
      "Epoch 800: train loss: 0.04925038665533066\n",
      "Epoch 850: train loss: 0.049077413976192474\n",
      "Epoch 900: train loss: 0.04892164096236229\n",
      "Epoch 950: train loss: 0.04878099262714386\n"
     ]
    }
   ],
   "source": [
    "network2 = Network2(n_input=4, n_output=1)\n",
    "t2 = Trainer(model=network2)\n",
    "\n",
    "t2.fit(x_train=X,y_train=Y)"
   ],
   "metadata": {
    "collapsed": false,
    "pycharm": {
     "name": "#%%%\n"
    }
   }
  },
  {
   "cell_type": "markdown",
   "source": [
    "## 2.3 Plot result"
   ],
   "metadata": {
    "collapsed": false
   }
  },
  {
   "cell_type": "code",
   "execution_count": 32,
   "outputs": [
    {
     "data": {
      "text/plain": "<Figure size 432x288 with 1 Axes>",
      "image/png": "[encoded data removed]"
     },
     "metadata": {
      "needs_background": "light"
     },
     "output_type": "display_data"
    }
   ],
   "source": [
    "t2.plot_loss()"
   ],
   "metadata": {
    "collapsed": false,
    "pycharm": {
     "name": "#%%\n"
    }
   }
  },
  {
   "cell_type": "markdown",
   "source": [
    "# Model 3"
   ],
   "metadata": {
    "collapsed": false
   }
  },
  {
   "cell_type": "markdown",
   "source": [
    "## 3.1 Define model"
   ],
   "metadata": {
    "collapsed": false
   }
  },
  {
   "cell_type": "code",
   "execution_count": 33,
   "outputs": [],
   "source": [
    "class Network3(torch.nn.Module):\n",
    "    def __init__(self,n_input=4, n_output=1):\n",
    "        super(Network3, self).__init__()\n",
    "        self.layer1 = torch.nn.Linear(n_input,10)\n",
    "        self.layer2 = torch.nn.Linear(10,10)\n",
    "        self.layer3 = torch.nn.Linear(10,n_output)\n",
    "    def forward(self, x):\n",
    "        x = self.layer1(x)\n",
    "        x = self.layer2(x)\n",
    "        x = self.layer3(x)\n",
    "\n",
    "        return x"
   ],
   "metadata": {
    "collapsed": false,
    "pycharm": {
     "name": "#%%%\n"
    }
   }
  },
  {
   "cell_type": "markdown",
   "source": [
    "## 3.2 Train model"
   ],
   "metadata": {
    "collapsed": false
   }
  },
  {
   "cell_type": "code",
   "execution_count": 34,
   "outputs": [
    {
     "name": "stdout",
     "output_type": "stream",
     "text": [
      "Epoch 0: train loss: 0.4933848977088928\n",
      "Epoch 50: train loss: 0.08065661787986755\n",
      "Epoch 100: train loss: 0.05836322158575058\n",
      "Epoch 150: train loss: 0.05657365173101425\n",
      "Epoch 200: train loss: 0.055336467921733856\n",
      "Epoch 250: train loss: 0.054309163242578506\n",
      "Epoch 300: train loss: 0.0534479133784771\n",
      "Epoch 350: train loss: 0.052721112966537476\n",
      "Epoch 400: train loss: 0.05210411176085472\n",
      "Epoch 450: train loss: 0.05157732591032982\n",
      "Epoch 500: train loss: 0.05112507566809654\n",
      "Epoch 550: train loss: 0.05073462799191475\n",
      "Epoch 600: train loss: 0.05039558559656143\n",
      "Epoch 650: train loss: 0.05009939894080162\n",
      "Epoch 700: train loss: 0.049839090555906296\n",
      "Epoch 750: train loss: 0.04960881546139717\n",
      "Epoch 800: train loss: 0.04940376803278923\n",
      "Epoch 850: train loss: 0.04921996593475342\n",
      "Epoch 900: train loss: 0.04905412718653679\n",
      "Epoch 950: train loss: 0.04890351742506027\n"
     ]
    }
   ],
   "source": [
    "network3 = Network3(n_input=4, n_output=1)\n",
    "t3 = Trainer(model=network3)\n",
    "t3.fit(x_train=X,y_train=Y)"
   ],
   "metadata": {
    "collapsed": false,
    "pycharm": {
     "name": "#%%%\n"
    }
   }
  },
  {
   "cell_type": "markdown",
   "source": [
    "## 3.3 Plot result"
   ],
   "metadata": {
    "collapsed": false
   }
  },
  {
   "cell_type": "code",
   "execution_count": 35,
   "outputs": [
    {
     "data": {
      "text/plain": "<Figure size 432x288 with 1 Axes>",
      "image/png": "[encoded data removed]"
     },
     "metadata": {
      "needs_background": "light"
     },
     "output_type": "display_data"
    }
   ],
   "source": [
    "t3.plot_loss()"
   ],
   "metadata": {
    "collapsed": false,
    "pycharm": {
     "name": "#%%\n"
    }
   }
  },
  {
   "cell_type": "markdown",
   "source": [
    "## Plot compare"
   ],
   "metadata": {
    "collapsed": false
   }
  },
  {
   "cell_type": "code",
   "execution_count": 46,
   "outputs": [
    {
     "data": {
      "text/plain": "<matplotlib.legend.Legend at 0x7f0533653c70>"
     },
     "execution_count": 46,
     "metadata": {},
     "output_type": "execute_result"
    },
    {
     "data": {
      "text/plain": "<Figure size 432x288 with 1 Axes>",
      "image/png": "[encoded data removed]"
     },
     "metadata": {
      "needs_background": "light"
     },
     "output_type": "display_data"
    }
   ],
   "source": [
    "plt.plot(t1.loss_history,label=\"t1\")\n",
    "plt.plot(t2.loss_history,label=\"t2_1\")\n",
    "plt.plot(t3.loss_history,label=\"t3\")\n",
    "plt.legend()"
   ],
   "metadata": {
    "collapsed": false,
    "pycharm": {
     "name": "#%%\n"
    }
   }
  },
  {
   "cell_type": "markdown",
   "source": [
    "# Exc 2"
   ],
   "metadata": {
    "collapsed": false,
    "pycharm": {
     "name": "#%% md\n"
    }
   }
  },
  {
   "cell_type": "code",
   "execution_count": 36,
   "outputs": [],
   "source": [
    "class Network2_1(torch.nn.Module):\n",
    "    def __init__(self,n_input=4, n_output=1):\n",
    "        super(Network2_1, self).__init__()\n",
    "        self.layer1 = torch.nn.Linear(n_input,10)\n",
    "        self.sigmoid = torch.nn.Sigmoid()\n",
    "        self.layer2 = torch.nn.Linear(10,n_output)\n",
    "    def forward(self, x):\n",
    "        x = self.layer1(x)\n",
    "        x = self.sigmoid(x)\n",
    "        x = self.layer2(x)\n",
    "\n",
    "        return x"
   ],
   "metadata": {
    "collapsed": false,
    "pycharm": {
     "name": "#%%\n"
    }
   }
  },
  {
   "cell_type": "markdown",
   "source": [
    "## Train model"
   ],
   "metadata": {
    "collapsed": false
   }
  },
  {
   "cell_type": "code",
   "execution_count": 37,
   "outputs": [
    {
     "name": "stdout",
     "output_type": "stream",
     "text": [
      "Epoch 0: train loss: 2.3252971172332764\n",
      "Epoch 50: train loss: 0.48689743876457214\n",
      "Epoch 100: train loss: 0.36657533049583435\n",
      "Epoch 150: train loss: 0.2807851731777191\n",
      "Epoch 200: train loss: 0.21434491872787476\n",
      "Epoch 250: train loss: 0.16300153732299805\n",
      "Epoch 300: train loss: 0.1252869963645935\n",
      "Epoch 350: train loss: 0.09902431815862656\n",
      "Epoch 400: train loss: 0.08148416876792908\n",
      "Epoch 450: train loss: 0.07003796100616455\n",
      "Epoch 500: train loss: 0.0625796914100647\n",
      "Epoch 550: train loss: 0.057623762637376785\n",
      "Epoch 600: train loss: 0.05421032756567001\n",
      "Epoch 650: train loss: 0.05175355449318886\n",
      "Epoch 700: train loss: 0.04990599676966667\n",
      "Epoch 750: train loss: 0.0484621562063694\n",
      "Epoch 800: train loss: 0.04729798436164856\n",
      "Epoch 850: train loss: 0.0463358499109745\n",
      "Epoch 900: train loss: 0.04552517831325531\n",
      "Epoch 950: train loss: 0.04483147710561752\n"
     ]
    }
   ],
   "source": [
    "network2_1 = Network2_1(n_input=4, n_output=1)\n",
    "t2_1 = Trainer(model=network2_1)\n",
    "\n",
    "t2_1.fit(x_train=X,y_train=Y)"
   ],
   "metadata": {
    "collapsed": false,
    "pycharm": {
     "name": "#%%%\n"
    }
   }
  },
  {
   "cell_type": "markdown",
   "source": [
    "## Plot result"
   ],
   "metadata": {
    "collapsed": false
   }
  },
  {
   "cell_type": "code",
   "execution_count": 38,
   "outputs": [
    {
     "data": {
      "text/plain": "<Figure size 432x288 with 1 Axes>",
      "image/png": "[encoded data removed]"
     },
     "metadata": {
      "needs_background": "light"
     },
     "output_type": "display_data"
    }
   ],
   "source": [
    "t2_1.plot_loss()"
   ],
   "metadata": {
    "collapsed": false,
    "pycharm": {
     "name": "#%%\n"
    }
   }
  },
  {
   "cell_type": "markdown",
   "source": [
    "## Plot compare"
   ],
   "metadata": {
    "collapsed": false
   }
  },
  {
   "cell_type": "code",
   "execution_count": 45,
   "outputs": [
    {
     "data": {
      "text/plain": "<matplotlib.legend.Legend at 0x7f05336374c0>"
     },
     "execution_count": 45,
     "metadata": {},
     "output_type": "execute_result"
    },
    {
     "data": {
      "text/plain": "<Figure size 432x288 with 1 Axes>",
      "image/png": "[encoded data removed]"
     },
     "metadata": {
      "needs_background": "light"
     },
     "output_type": "display_data"
    }
   ],
   "source": [
    "plt.plot(t1.loss_history,label=\"t1\")\n",
    "plt.plot(t2_1.loss_history,label=\"t2_1\")\n",
    "plt.plot(t3.loss_history,label=\"t3\")\n",
    "plt.legend()"
   ],
   "metadata": {
    "collapsed": false,
    "pycharm": {
     "name": "#%%\n"
    }
   }
  },
  {
   "cell_type": "markdown",
   "source": [
    "# Exc 3"
   ],
   "metadata": {
    "collapsed": false,
    "pycharm": {
     "name": "#%% md\n"
    }
   }
  },
  {
   "cell_type": "code",
   "execution_count": 39,
   "outputs": [],
   "source": [
    "class Network2_2(torch.nn.Module):\n",
    "    def __init__(self,n_input=4, n_output=1):\n",
    "        super(Network2_2, self).__init__()\n",
    "        self.layer1 = torch.nn.Linear(n_input,10)\n",
    "        self.sigmoid = torch.nn.Sigmoid()\n",
    "        self.layer2 = torch.nn.Linear(10,n_output)\n",
    "    def forward(self, x):\n",
    "        x = self.layer1(x)\n",
    "        x = self.sigmoid(x)\n",
    "        x = self.layer2(x)\n",
    "\n",
    "        return x"
   ],
   "metadata": {
    "collapsed": false,
    "pycharm": {
     "name": "#%%\n"
    }
   }
  },
  {
   "cell_type": "markdown",
   "source": [
    "## Train model"
   ],
   "metadata": {
    "collapsed": false,
    "pycharm": {
     "name": "#%% md\n"
    }
   }
  },
  {
   "cell_type": "code",
   "execution_count": 39,
   "outputs": [],
   "source": [
    "Network2_2 = Network2_2(n_input=4, n_output=1)\n",
    "t2_2 = Trainer(model=Network2_2)\n",
    "t2_2.optimizer = torch.optim.SGD(Network2_2.parameters(), lr=0.01)\n",
    "\n",
    "t2_2.fit(x_train=X,y_train=Y)"
   ],
   "metadata": {
    "collapsed": false,
    "pycharm": {
     "name": "#%%%\n"
    }
   }
  },
  {
   "cell_type": "markdown",
   "source": [
    "## Plot result"
   ],
   "metadata": {
    "collapsed": false,
    "pycharm": {
     "name": "#%% md\n"
    }
   }
  },
  {
   "cell_type": "code",
   "execution_count": 39,
   "outputs": [],
   "source": [
    "t2_2.plot_loss()"
   ],
   "metadata": {
    "collapsed": false,
    "pycharm": {
     "name": "#%%\n"
    }
   }
  },
  {
   "cell_type": "markdown",
   "source": [
    "## Plot compare"
   ],
   "metadata": {
    "collapsed": false,
    "pycharm": {
     "name": "#%% md\n"
    }
   }
  },
  {
   "cell_type": "code",
   "execution_count": null,
   "outputs": [],
   "source": [
    "# plt.plot(t1.loss_history,label=\"t1\")\n",
    "# plt.plot(t2_1.loss_history,label=\"t2_1\")\n",
    "# plt.plot(t3.loss_history,label=\"t3\")\n",
    "# plt.legend()"
   ],
   "metadata": {
    "collapsed": false,
    "pycharm": {
     "name": "#%%\n"
    }
   }
  },
  {
   "cell_type": "code",
   "execution_count": null,
   "outputs": [],
   "source": [],
   "metadata": {
    "collapsed": false,
    "pycharm": {
     "name": "#%%\n"
    }
   }
  }
 ],
 "metadata": {
  "kernelspec": {
   "display_name": "Python 3",
   "language": "python",
   "name": "python3"
  },
  "language_info": {
   "codemirror_mode": {
    "name": "ipython",
    "version": 2
   },
   "file_extension": ".py",
   "mimetype": "text/x-python",
   "name": "python",
   "nbconvert_exporter": "python",
   "pygments_lexer": "ipython2",
   "version": "2.7.6"
  }
 },
 "nbformat": 4,
 "nbformat_minor": 0
}
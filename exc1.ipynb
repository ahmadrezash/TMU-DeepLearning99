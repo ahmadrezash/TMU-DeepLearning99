{
 "cells": [
  {
   "cell_type": "code",
   "execution_count": 55,
   "outputs": [],
   "source": [
    "from sklearn.datasets import load_iris\n",
    "\n",
    "data = load_iris()\n",
    "x = data['data']\n",
    "y = data['target']"
   ],
   "metadata": {
    "collapsed": false,
    "pycharm": {
     "name": "#%%\n"
    }
   }
  },
  {
   "cell_type": "code",
   "execution_count": 56,
   "outputs": [],
   "source": [
    "import torch\n",
    "from torch.autograd import Variable\n",
    "import torch.nn.functional as F\n",
    "\n",
    "%matplotlib inline\n",
    "import matplotlib.pyplot as plt\n",
    "\n",
    "\n",
    "\n",
    "# x, y = Variable(torch.tensor(x,dtype=torch.float)), Variable(torch.tensor(y,dtype=torch.float))\n",
    "\n",
    "class NN(torch.nn.Module):\n",
    "    def __init__(self, n_input, n_output):\n",
    "        super(NN, self).__init__()\n",
    "        self.out = torch.nn.Linear(n_input, n_output)\n",
    "\n",
    "    def forward(self, x):\n",
    "        x = self.out(x)\n",
    "        return x\n",
    "\n",
    "net = NN(n_input=4, n_output=1)"
   ],
   "metadata": {
    "collapsed": false,
    "pycharm": {
     "name": "#%%\n"
    }
   }
  },
  {
   "cell_type": "code",
   "execution_count": 60,
   "outputs": [],
   "source": [
    "class Trainer:\n",
    "    loss_history = []\n",
    "    x = None\n",
    "    y = None\n",
    "    model = None\n",
    "\n",
    "    def __init__(self,model,epoch,loss_func,optimizer):\n",
    "        self.model = model # initialized model\n",
    "        self.epoch = epoch\n",
    "        self.loss_func = loss_func\n",
    "        self.optimizer = optimizer\n",
    "\n",
    "    def fit(self,X,Y):\n",
    "        x = self.x = Variable(torch.tensor(X,dtype=torch.float))\n",
    "        y = self.y = Variable(torch.tensor(Y,dtype=torch.float))\n",
    "        model = self.model\n",
    "        self.loss_history = []\n",
    "        for t in range(self.epoch):\n",
    "\n",
    "            prediction = model(x)\n",
    "            # print(prediction)\n",
    "\n",
    "            loss = self.loss_func(prediction, y)\n",
    "            self.loss_history.append(loss)\n",
    "            print(loss)\n",
    "\n",
    "            self.optimizer.zero_grad()\n",
    "            loss.backward()\n",
    "\n",
    "            self.optimizer.step()\n",
    "\n",
    "\n",
    "\n",
    "    def plot_loss_history(self):\n",
    "        plt.plot(self.loss_history)"
   ],
   "metadata": {
    "collapsed": false,
    "pycharm": {
     "name": "#%%\n"
    }
   }
  },
  {
   "cell_type": "code",
   "execution_count": 61,
   "outputs": [],
   "source": [
    "model = NN(n_input=4,n_output=1)\n",
    "\n",
    "t = Trainer(model=model,epoch=5,loss_func=torch.nn.MSELoss(),optimizer=torch.optim.SGD(net.parameters(), lr=0.2))"
   ],
   "metadata": {
    "collapsed": false,
    "pycharm": {
     "name": "#%%\n"
    }
   }
  },
  {
   "cell_type": "code",
   "execution_count": 62,
   "outputs": [
    {
     "name": "stdout",
     "output_type": "stream",
     "text": [
      "tensor(7.1532, grad_fn=<MseLossBackward>)\n",
      "tensor(7.1532, grad_fn=<MseLossBackward>)\n",
      "tensor(7.1532, grad_fn=<MseLossBackward>)\n",
      "tensor(7.1532, grad_fn=<MseLossBackward>)\n",
      "tensor(7.1532, grad_fn=<MseLossBackward>)\n"
     ]
    }
   ],
   "source": [
    "t.fit(X=data['data'],Y=data['target'])"
   ],
   "metadata": {
    "collapsed": false,
    "pycharm": {
     "name": "#%%\n"
    }
   }
  },
  {
   "cell_type": "code",
   "execution_count": 25,
   "outputs": [
    {
     "data": {
      "text/plain": "[]"
     },
     "execution_count": 25,
     "metadata": {},
     "output_type": "execute_result"
    }
   ],
   "source": [
    "t.loss_history"
   ],
   "metadata": {
    "collapsed": false,
    "pycharm": {
     "name": "#%%\n"
    }
   }
  },
  {
   "cell_type": "code",
   "execution_count": null,
   "outputs": [],
   "source": [],
   "metadata": {
    "collapsed": false,
    "pycharm": {
     "name": "#%%\n"
    }
   }
  }
 ],
 "metadata": {
  "kernelspec": {
   "display_name": "Python 3",
   "language": "python",
   "name": "python3"
  },
  "language_info": {
   "codemirror_mode": {
    "name": "ipython",
    "version": 2
   },
   "file_extension": ".py",
   "mimetype": "text/x-python",
   "name": "python",
   "nbconvert_exporter": "python",
   "pygments_lexer": "ipython2",
   "version": "2.7.6"
  }
 },
 "nbformat": 4,
 "nbformat_minor": 0
}
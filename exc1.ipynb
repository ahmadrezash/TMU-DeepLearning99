{
 "cells": [
  {
   "cell_type": "code",
   "execution_count": 103,
   "outputs": [],
   "source": [
    "from sklearn.datasets import load_iris\n",
    "import torch\n",
    "\n",
    "from torch.autograd import Variable\n",
    "import matplotlib.pyplot as plt\n",
    "%matplotlib inline"
   ],
   "metadata": {
    "collapsed": false,
    "pycharm": {
     "name": "#%%\n"
    }
   }
  },
  {
   "cell_type": "code",
   "execution_count": 104,
   "outputs": [],
   "source": [
    "class Trainer:\n",
    "\n",
    "    def __init__(self,model,epoch=None,criterion=None,optimizer=None)-> None:\n",
    "        super().__init__()\n",
    "        self.model = model\n",
    "        self.epoch = epoch or 1000\n",
    "        self.criterion = criterion or torch.nn.MSELoss()\n",
    "        self.optimizer = optimizer or torch.optim.SGD(model.parameters(), lr = 0.01)\n",
    "\n",
    "    def fit(self,x_train,y_train):\n",
    "        x_train = Variable(torch.tensor(x_train,dtype=torch.float))\n",
    "        y_train = Variable(torch.tensor(y_train,dtype=torch.float))\n",
    "\n",
    "        epoch = self.epoch\n",
    "        model = self.model\n",
    "        criterion = self.criterion\n",
    "        optimizer = self.optimizer\n",
    "\n",
    "        self.loss_history = []\n",
    "        for i in range(epoch):\n",
    "            optimizer.zero_grad()\n",
    "\n",
    "            # Forward\n",
    "            y_pred = model(x_train)\n",
    "\n",
    "            # Loss\n",
    "            loss = criterion(y_pred.squeeze(), y_train)\n",
    "            self.loss_history.append(loss)\n",
    "            if not i % 50 :\n",
    "                print(f'Epoch {i}: train loss: {loss.item()}')\n",
    "\n",
    "            # Backward pass\n",
    "            loss.backward()\n",
    "            optimizer.step()\n",
    "\n",
    "    def plot_loss(self):\n",
    "        plt.plot(self.loss_history)"
   ],
   "metadata": {
    "collapsed": false,
    "pycharm": {
     "name": "#%%\n"
    }
   }
  },
  {
   "cell_type": "code",
   "execution_count": 105,
   "outputs": [],
   "source": [
    "class Network(torch.nn.Module):\n",
    "    def __init__(self,n_input=4, n_output=1):\n",
    "        super(Network, self).__init__()\n",
    "        self.fc = torch.nn.Linear(n_input,n_output)\n",
    "    def forward(self, x):\n",
    "        x = self.fc(x)\n",
    "\n",
    "        return x\n",
    "\n",
    "network = Network(n_input=4, n_output=1)\n",
    "t = Trainer(model=network)"
   ],
   "metadata": {
    "collapsed": false,
    "pycharm": {
     "name": "#%%%\n"
    }
   }
  },
  {
   "cell_type": "code",
   "execution_count": 106,
   "outputs": [
    {
     "name": "stdout",
     "output_type": "stream",
     "text": [
      "Epoch 0: train loss: 1.4203945398330688\n",
      "Epoch 50: train loss: 0.09970685839653015\n",
      "Epoch 100: train loss: 0.08118071407079697\n",
      "Epoch 150: train loss: 0.07637655735015869\n",
      "Epoch 200: train loss: 0.07240861654281616\n",
      "Epoch 250: train loss: 0.0690152645111084\n",
      "Epoch 300: train loss: 0.06611021608114243\n",
      "Epoch 350: train loss: 0.06362178176641464\n",
      "Epoch 400: train loss: 0.061488792300224304\n",
      "Epoch 450: train loss: 0.059659119695425034\n",
      "Epoch 500: train loss: 0.05808839201927185\n",
      "Epoch 550: train loss: 0.05673870071768761\n",
      "Epoch 600: train loss: 0.055577781051397324\n",
      "Epoch 650: train loss: 0.05457812175154686\n",
      "Epoch 700: train loss: 0.053716227412223816\n",
      "Epoch 750: train loss: 0.05297210067510605\n",
      "Epoch 800: train loss: 0.05232866108417511\n",
      "Epoch 850: train loss: 0.051771380007267\n",
      "Epoch 900: train loss: 0.05128781497478485\n",
      "Epoch 950: train loss: 0.05086739361286163\n"
     ]
    }
   ],
   "source": [
    "data = load_iris()\n",
    "X = data['data']\n",
    "Y = data['target']\n",
    "t.fit(x_train=X,y_train=Y)"
   ],
   "metadata": {
    "collapsed": false,
    "pycharm": {
     "name": "#%%%\n"
    }
   }
  },
  {
   "cell_type": "code",
   "execution_count": 107,
   "outputs": [
    {
     "data": {
      "text/plain": "<Figure size 432x288 with 1 Axes>",
      "image/png": "[encoded data removed]"
     },
     "metadata": {
      "needs_background": "light"
     },
     "output_type": "display_data"
    }
   ],
   "source": [
    "t.plot_loss()"
   ],
   "metadata": {
    "collapsed": false,
    "pycharm": {
     "name": "#%%\n"
    }
   }
  },
  {
   "cell_type": "code",
   "execution_count": null,
   "outputs": [],
   "source": [],
   "metadata": {
    "collapsed": false,
    "pycharm": {
     "name": "#%%\n"
    }
   }
  }
 ],
 "metadata": {
  "kernelspec": {
   "display_name": "Python 3",
   "language": "python",
   "name": "python3"
  },
  "language_info": {
   "codemirror_mode": {
    "name": "ipython",
    "version": 2
   },
   "file_extension": ".py",
   "mimetype": "text/x-python",
   "name": "python",
   "nbconvert_exporter": "python",
   "pygments_lexer": "ipython2",
   "version": "2.7.6"
  }
 },
 "nbformat": 4,
 "nbformat_minor": 0
}